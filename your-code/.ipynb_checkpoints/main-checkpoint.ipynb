{
 "cells": [
  {
   "cell_type": "markdown",
   "id": "2eaf369f",
   "metadata": {},
   "source": [
    "### Your lab resolution :"
   ]
  },
  {
   "cell_type": "markdown",
   "id": "35f29260",
   "metadata": {},
   "source": [
    "Challenge 1:"
   ]
  },
  {
   "cell_type": "code",
   "execution_count": 1,
   "id": "6c94489a",
   "metadata": {},
   "outputs": [
    {
     "name": "stdout",
     "output_type": "stream",
     "text": [
      "['Python', 'HTML', 'Jupyter Notebook']\n"
     ]
    }
   ],
   "source": [
    "import requests\n",
    "\n",
    "# Step 1: Obtain the list of forks\n",
    "repo_url = 'https://api.github.com/repos/ironhack-datalabs/bcn-feb-2019/forks'\n",
    "response = requests.get(repo_url)\n",
    "forks = response.json()\n",
    "\n",
    "# Step 2: Loop through the forks and collect unique languages\n",
    "unique_languages = set()\n",
    "\n",
    "for fork in forks:\n",
    "    fork_url = fork['languages_url']\n",
    "    languages_response = requests.get(fork_url)\n",
    "    languages = languages_response.json()\n",
    "    \n",
    "    # Collect unique languages\n",
    "    unique_languages.update(languages.keys())\n",
    "\n",
    "# Step 3: Print the array of unique languages\n",
    "print(list(unique_languages))\n"
   ]
  },
  {
   "cell_type": "markdown",
   "id": "7cc4af76",
   "metadata": {},
   "source": [
    "Challenge 2:"
   ]
  },
  {
   "cell_type": "code",
   "execution_count": 3,
   "id": "9044c7c2",
   "metadata": {},
   "outputs": [
    {
     "name": "stdout",
     "output_type": "stream",
     "text": [
      "Number of commits in the past 3 weeks: 2\n"
     ]
    }
   ],
   "source": [
    "import requests\n",
    "from datetime import datetime, timedelta\n",
    "\n",
    "# Define the repository and API endpoint\n",
    "repo = 'ta-data-pt-rmt/lab-mysql-first-queries'\n",
    "commits_endpoint = f'https://api.github.com/repos/{repo}/commits'\n",
    "\n",
    "# Calculate the date three weeks ago\n",
    "three_weeks_ago = datetime.now() - timedelta(weeks=3)\n",
    "formatted_date = three_weeks_ago.strftime('%Y-%m-%dT%H:%M:%SZ')\n",
    "\n",
    "# Specify parameters for the API request\n",
    "params = {\n",
    "    'since': formatted_date,\n",
    "    'per_page': 100  # GitHub API default maximum number of items per page\n",
    "}\n",
    "\n",
    "# Make the API request to get commits\n",
    "response = requests.get(commits_endpoint, headers=headers, params=params)\n",
    "commits = response.json()\n",
    "\n",
    "# Count the number of commits\n",
    "num_commits = len(commits)\n",
    "\n",
    "# Print the result\n",
    "print(f'Number of commits in the past 3 weeks: {num_commits}')\n"
   ]
  }
 ],
 "metadata": {
  "kernelspec": {
   "display_name": "Python 3 (ipykernel)",
   "language": "python",
   "name": "python3"
  },
  "language_info": {
   "codemirror_mode": {
    "name": "ipython",
    "version": 3
   },
   "file_extension": ".py",
   "mimetype": "text/x-python",
   "name": "python",
   "nbconvert_exporter": "python",
   "pygments_lexer": "ipython3",
   "version": "3.11.4"
  }
 },
 "nbformat": 4,
 "nbformat_minor": 5
}
